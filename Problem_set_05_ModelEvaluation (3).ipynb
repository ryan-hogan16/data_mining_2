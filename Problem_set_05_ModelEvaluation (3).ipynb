{
  "nbformat": 4,
  "nbformat_minor": 0,
  "metadata": {
    "colab": {
      "name": "Problem_set_05_ModelEvaluation.ipynb",
      "provenance": [],
      "toc_visible": true
    },
    "kernelspec": {
      "name": "python3",
      "display_name": "Python 3"
    }
  },
  "cells": [
    {
      "cell_type": "markdown",
      "metadata": {
        "id": "ajL0q2QnDby3"
      },
      "source": [
        "This notebook is part the of Dr. Christoforos Christoforou's course materials. You may not, nor may you knowingly allow others to reproduce or distribute lecture notes, course materials or any of their derivatives without the instructor's express written consent.\n",
        "\n",
        "\n",
        "\n"
      ]
    },
    {
      "cell_type": "markdown",
      "metadata": {
        "id": "UHX03yxgR3Dv"
      },
      "source": [
        "## Problem Set 05: Hyperparameter Tuning and Model Selection"
      ]
    },
    {
      "cell_type": "markdown",
      "metadata": {
        "id": "3eZOG6mtPrcW"
      },
      "source": [
        "## Cross-validation example code\n",
        "Oftentimes, we might consider one of several classification models as our predictive function, or we might want to identify the optimal set parameters for a particular classifier. For example, the KNN classifier expects the parameter `K` which indicates the number neighbors, the SVM classifier expects some hyperparameters such as the value `C`, and the `kernel` function. \n",
        "\n",
        "Typically, we want to select the best set of parameters for our particular model. One method for selecting such hyperparameters is `cross-validation`. \n",
        "\n",
        "The code below illustrates how you can use `sklearn` functions to perform `cross-validation`."
      ]
    },
    {
      "cell_type": "code",
      "metadata": {
        "id": "KWQ6ifaXRUB8"
      },
      "source": [
        "import numpy as np\n",
        "import matplotlib.pyplot as plt \n",
        "from sklearn import metrics\n",
        "from sklearn import datasets\n",
        "from sklearn.neighbors import KNeighborsClassifier\n",
        "from sklearn.model_selection import train_test_split\n",
        "from sklearn.model_selection import cross_val_score\n",
        "from sklearn.model_selection import StratifiedKFold "
      ],
      "execution_count": 1,
      "outputs": []
    },
    {
      "cell_type": "code",
      "metadata": {
        "id": "r2IYBkdHPr6C"
      },
      "source": [
        "# Generate a sample Dataset. \n",
        "n_samples = 100\n",
        "noisy_circles = datasets.make_circles(n_samples=n_samples, factor=.5, noise=.35)\n",
        "X, y = noisy_circles"
      ],
      "execution_count": 2,
      "outputs": []
    },
    {
      "cell_type": "code",
      "metadata": {
        "colab": {
          "base_uri": "https://localhost:8080/"
        },
        "id": "Aud0Y-MwP2p6",
        "outputId": "add32054-ba91-4be2-aa92-915c2d561d36"
      },
      "source": [
        "# Run one of the data generation cell above before executing this cell; \n",
        "\n",
        "from sklearn.neighbors import KNeighborsClassifier\n",
        "from sklearn.model_selection import train_test_split\n",
        "\n",
        "#\n",
        "# Split the original dataset into Training and Testing sets.\n",
        "X_train, X_test, y_train, y_test = train_test_split(X, y, random_state=54, test_size=0.45, \n",
        "                                                    shuffle=True, stratify=y)\n",
        "\n",
        "n_splits = 25       # Specify cross validation splits parameters (i.e. how many folds)\n",
        "n_neighbors = 10    # Specify classifer parameters\n",
        "\n",
        "# Generate a cross validation slplit iterator. \n",
        "cv = StratifiedKFold(n_splits=n_splits, random_state=54, shuffle=True)\n",
        "\n",
        "# use it to keep track of the accuracy total accross all folds \n",
        "kfold_acc = 0.\n",
        "\n",
        "for train_idx, valid_idx in cv.split(X_train, y_train):\n",
        "  \n",
        "  # Define the classificaiton model - KNeighborsClassifier() classifer.\n",
        "  model = KNeighborsClassifier(n_neighbors=n_neighbors)\n",
        "\n",
        "  # Train the classifier on the subset of the training data that are in the training index set current cross validation fold. \n",
        "  model.fit(X_train[train_idx],y_train[train_idx])\n",
        "\n",
        "  # Test the classifer on the subset of the training data that are in the validation index set of the current cross validation fold.\n",
        "  y_pred = model.predict(X_train[valid_idx])\n",
        "\n",
        "  # Obtain an estimate of the accuracy of the prediciton. \n",
        "  # Here we can use any of the classifer perfomrance matrics we want. \n",
        "\n",
        "  acc_metric = metrics.accuracy_score(y_pred,y_train[valid_idx])\n",
        "  kfold_acc += acc_metric \n",
        "\n",
        "# cross validation loop is complete; calcualte the average accuracy. \n",
        "kfold_acc = kfold_acc/n_splits\n",
        "\n",
        "#\n",
        "# Calculate the accuracy of the classifer on an independent test set. \n",
        "# \n",
        " \n",
        "model = KNeighborsClassifier(n_neighbors=n_neighbors)\n",
        "model.fit(X_train, y_train)\n",
        "y_pred = model.predict(X_test)\n",
        "test_acc = metrics.accuracy_score(y_pred, y_test)\n",
        "\n",
        "print(\"Cross-validation Accuracy: {:.2f}\".format(kfold_acc))\n",
        "print(\"Test Accuracy: {:.2f}\".format(test_acc))\n"
      ],
      "execution_count": 3,
      "outputs": [
        {
          "output_type": "stream",
          "text": [
            "Cross-validation Accuracy: 0.74\n",
            "Test Accuracy: 0.71\n"
          ],
          "name": "stdout"
        }
      ]
    },
    {
      "cell_type": "markdown",
      "metadata": {
        "id": "mYzRE0m4P8pO"
      },
      "source": [
        "Alternatively, we can use the `cross_val_score` to simplify the procedure as follows:"
      ]
    },
    {
      "cell_type": "code",
      "metadata": {
        "colab": {
          "base_uri": "https://localhost:8080/"
        },
        "id": "fZZEg4GqP7xv",
        "outputId": "4266c2fd-aa0a-4d5d-8da7-bebc4c3864bc"
      },
      "source": [
        "#\n",
        "# Since cross-validation use-case is so common when assessing the performance of a classifer, sklearn library \n",
        "# has a dedicated method (i.e. the corss_val_score) that implements the entire cross-validation pipeline. \n",
        "#\n",
        "# A more compact way to implement the same logic as the code above is to use a method provided by sklearn library.\n",
        " \n",
        "\n",
        "from sklearn.model_selection import cross_val_score\n",
        "\n",
        "#\n",
        "# Split the original dataset into Training and Testing sets.\n",
        "X_train, X_test, y_train, y_test = train_test_split(X, y, random_state=54, test_size=0.45, \n",
        "                                                    shuffle=True, stratify=y)\n",
        "# Specify the classifier. \n",
        "model = KNeighborsClassifier(n_neighbors=n_neighbors)\n",
        "\n",
        "# Specify the corss validation parameters\n",
        "cv = StratifiedKFold(n_splits=10, random_state=43, shuffle=True)\n",
        "\n",
        "# Rum the corss-validation processing pipline \n",
        "cv_acc = cross_val_score(estimator=model,\n",
        "                         X=X_train,\n",
        "                         y=y_train,\n",
        "                         cv=cv,\n",
        "                         n_jobs=-1)\n",
        "\n",
        "# Report results of the accuracy. \n",
        "print(\"Cross-validation: {:.2f}\".format(np.mean(cv_acc)))"
      ],
      "execution_count": 4,
      "outputs": [
        {
          "output_type": "stream",
          "text": [
            "Cross-validation: 0.80\n"
          ],
          "name": "stdout"
        }
      ]
    },
    {
      "cell_type": "markdown",
      "metadata": {
        "id": "ncdkaDG6JdQQ"
      },
      "source": [
        "### Challenges : Cross Valudation for Hyperparameter Tuning\n",
        "In this exercise, you will be working with the Pima Indians Diabetes Database database by Vincent Sigillito, which is available from the UCI database (https://archive.ics.uci.edu/ml/datasets/pima+indians+diabetes) or OpenML (https://www.openml.org/d/37).\n",
        "\n",
        "The dataset contains information about 768 patients along with the Diabetes diagnosis. The Diabetes diagnosis is a binary label, where \"tested_positive\" means that a patient has diabetes and \"tested_negative\" means that a patient does not have diabetes.\n",
        "\n",
        "I addition to the class label, there are 8 numeric features in the dataset, which are listed below:\n",
        "\n",
        "- Number of times pregnant\n",
        "- Plasma glucose concentration a 2 hours in an oral glucose tolerance test\n",
        "- Diastolic blood pressure (mm Hg)\n",
        "- Triceps skin fold thickness (mm)\n",
        "- 2-Hour serum insulin (mu U/ml)\n",
        "- Body mass index (weight in kg/(height in m)^2)\n",
        "- Diabetes pedigree function\n",
        "- Age (years)"
      ]
    },
    {
      "cell_type": "markdown",
      "metadata": {
        "id": "v_XOEDnjTmVn"
      },
      "source": [
        "### Download the dataset "
      ]
    },
    {
      "cell_type": "code",
      "metadata": {
        "id": "hFrOEzVGK3M7"
      },
      "source": [
        "!pip install -q kaggle"
      ],
      "execution_count": null,
      "outputs": []
    },
    {
      "cell_type": "code",
      "metadata": {
        "id": "yNRPA9wHK4Up"
      },
      "source": [
        "#Upload the kaggle API key of your account \n",
        "from google.colab import files \n",
        "files.upload()\n",
        "!mkdir ~/.kaggle\n",
        "!cp kaggle.json ~/.kaggle\n",
        "!chmod 600 ~/.kaggle/kaggle.json"
      ],
      "execution_count": null,
      "outputs": []
    },
    {
      "cell_type": "code",
      "metadata": {
        "id": "m_URhfW0K8oa"
      },
      "source": [
        "# Download - Specify the parameters.  \n",
        "kaggle_dataset_URI = \"cchristoforou/practice-dataset-for-tutorials\"\n",
        "output_folder = \"sample_data/problem_set05\"\n",
        "kaggle_data_file1 = \"dataset_37_diabetes.csv\""
      ],
      "execution_count": null,
      "outputs": []
    },
    {
      "cell_type": "code",
      "metadata": {
        "id": "iYy4rG_TLHFc"
      },
      "source": [
        "# Download the first file from dataset - countries.csv\n",
        "!kaggle datasets download $kaggle_dataset_URI --file $kaggle_data_file1 --path $output_folder"
      ],
      "execution_count": null,
      "outputs": []
    },
    {
      "cell_type": "markdown",
      "metadata": {
        "id": "8rErv0BeL4gb"
      },
      "source": [
        "###  Load the Dataset\n",
        "\n",
        "Use pandas to load the dataset from the `dataset_37_diabetes.csv` CSV file located under the `sample_data/problem_set05` folder in your colab environment. Make sure you downloaded the data by executing `kaggle` command at the top of this notebook.\n"
      ]
    },
    {
      "cell_type": "code",
      "metadata": {
        "id": "AQ1joY2nL7lr",
        "colab": {
          "base_uri": "https://localhost:8080/",
          "height": 191
        },
        "outputId": "c9aa0c9f-6c23-46a2-d31c-6f9ed76dc40a"
      },
      "source": [
        "import pandas as pd\n",
        "df = pd.read_csv('/content/sample_data/dataset_37_diabetes.csv')\n",
        "df.drop(df.columns[0],axis=1,inplace=True)\n",
        "df.head()"
      ],
      "execution_count": 30,
      "outputs": [
        {
          "output_type": "execute_result",
          "data": {
            "text/html": [
              "<div>\n",
              "<style scoped>\n",
              "    .dataframe tbody tr th:only-of-type {\n",
              "        vertical-align: middle;\n",
              "    }\n",
              "\n",
              "    .dataframe tbody tr th {\n",
              "        vertical-align: top;\n",
              "    }\n",
              "\n",
              "    .dataframe thead th {\n",
              "        text-align: right;\n",
              "    }\n",
              "</style>\n",
              "<table border=\"1\" class=\"dataframe\">\n",
              "  <thead>\n",
              "    <tr style=\"text-align: right;\">\n",
              "      <th></th>\n",
              "      <th>plas</th>\n",
              "      <th>pres</th>\n",
              "      <th>skin</th>\n",
              "      <th>insu</th>\n",
              "      <th>mass</th>\n",
              "      <th>pedi</th>\n",
              "      <th>age</th>\n",
              "      <th>class</th>\n",
              "    </tr>\n",
              "  </thead>\n",
              "  <tbody>\n",
              "    <tr>\n",
              "      <th>0</th>\n",
              "      <td>148</td>\n",
              "      <td>72</td>\n",
              "      <td>35</td>\n",
              "      <td>0</td>\n",
              "      <td>33.6</td>\n",
              "      <td>0.627</td>\n",
              "      <td>50</td>\n",
              "      <td>tested_positive</td>\n",
              "    </tr>\n",
              "    <tr>\n",
              "      <th>1</th>\n",
              "      <td>85</td>\n",
              "      <td>66</td>\n",
              "      <td>29</td>\n",
              "      <td>0</td>\n",
              "      <td>26.6</td>\n",
              "      <td>0.351</td>\n",
              "      <td>31</td>\n",
              "      <td>tested_negative</td>\n",
              "    </tr>\n",
              "    <tr>\n",
              "      <th>2</th>\n",
              "      <td>183</td>\n",
              "      <td>64</td>\n",
              "      <td>0</td>\n",
              "      <td>0</td>\n",
              "      <td>23.3</td>\n",
              "      <td>0.672</td>\n",
              "      <td>32</td>\n",
              "      <td>tested_positive</td>\n",
              "    </tr>\n",
              "    <tr>\n",
              "      <th>3</th>\n",
              "      <td>89</td>\n",
              "      <td>66</td>\n",
              "      <td>23</td>\n",
              "      <td>94</td>\n",
              "      <td>28.1</td>\n",
              "      <td>0.167</td>\n",
              "      <td>21</td>\n",
              "      <td>tested_negative</td>\n",
              "    </tr>\n",
              "    <tr>\n",
              "      <th>4</th>\n",
              "      <td>137</td>\n",
              "      <td>40</td>\n",
              "      <td>35</td>\n",
              "      <td>168</td>\n",
              "      <td>43.1</td>\n",
              "      <td>2.288</td>\n",
              "      <td>33</td>\n",
              "      <td>tested_positive</td>\n",
              "    </tr>\n",
              "  </tbody>\n",
              "</table>\n",
              "</div>"
            ],
            "text/plain": [
              "   plas  pres  skin  insu  mass   pedi  age            class\n",
              "0   148    72    35     0  33.6  0.627   50  tested_positive\n",
              "1    85    66    29     0  26.6  0.351   31  tested_negative\n",
              "2   183    64     0     0  23.3  0.672   32  tested_positive\n",
              "3    89    66    23    94  28.1  0.167   21  tested_negative\n",
              "4   137    40    35   168  43.1  2.288   33  tested_positive"
            ]
          },
          "metadata": {
            "tags": []
          },
          "execution_count": 30
        }
      ]
    },
    {
      "cell_type": "markdown",
      "metadata": {
        "id": "LfARCZPjMUU2"
      },
      "source": [
        "### Challenge 1 : Preprocess the class label\n",
        "\n",
        "Convert the class label using pandas `apply` or `map` method. The mapping should be as follows:\n",
        "\n",
        "- 'tested_positive' should be converted to 1 \n",
        "- 'tested_negative' should be converted to 0\n",
        "\n",
        "Check the documentation of the `map` method [here](https://pandas.pydata.org/pandas-docs/stable/reference/api/pandas.Series.map.html) and the `appy` method [here](https://pandas.pydata.org/pandas-docs/stable/reference/api/pandas.Series.apply.html#pandas.Series.apply)"
      ]
    },
    {
      "cell_type": "code",
      "metadata": {
        "id": "SCa3MvLVMe1t",
        "colab": {
          "base_uri": "https://localhost:8080/",
          "height": 191
        },
        "outputId": "59b7b5f5-5de5-449b-fb99-33266148169d"
      },
      "source": [
        "# Implement Challenge 1 here.\n",
        "df['class'] = df['class'].map({'tested_positive': 1, 'tested_negative': 0})\n",
        "df.head()"
      ],
      "execution_count": 31,
      "outputs": [
        {
          "output_type": "execute_result",
          "data": {
            "text/html": [
              "<div>\n",
              "<style scoped>\n",
              "    .dataframe tbody tr th:only-of-type {\n",
              "        vertical-align: middle;\n",
              "    }\n",
              "\n",
              "    .dataframe tbody tr th {\n",
              "        vertical-align: top;\n",
              "    }\n",
              "\n",
              "    .dataframe thead th {\n",
              "        text-align: right;\n",
              "    }\n",
              "</style>\n",
              "<table border=\"1\" class=\"dataframe\">\n",
              "  <thead>\n",
              "    <tr style=\"text-align: right;\">\n",
              "      <th></th>\n",
              "      <th>plas</th>\n",
              "      <th>pres</th>\n",
              "      <th>skin</th>\n",
              "      <th>insu</th>\n",
              "      <th>mass</th>\n",
              "      <th>pedi</th>\n",
              "      <th>age</th>\n",
              "      <th>class</th>\n",
              "    </tr>\n",
              "  </thead>\n",
              "  <tbody>\n",
              "    <tr>\n",
              "      <th>0</th>\n",
              "      <td>148</td>\n",
              "      <td>72</td>\n",
              "      <td>35</td>\n",
              "      <td>0</td>\n",
              "      <td>33.6</td>\n",
              "      <td>0.627</td>\n",
              "      <td>50</td>\n",
              "      <td>1</td>\n",
              "    </tr>\n",
              "    <tr>\n",
              "      <th>1</th>\n",
              "      <td>85</td>\n",
              "      <td>66</td>\n",
              "      <td>29</td>\n",
              "      <td>0</td>\n",
              "      <td>26.6</td>\n",
              "      <td>0.351</td>\n",
              "      <td>31</td>\n",
              "      <td>0</td>\n",
              "    </tr>\n",
              "    <tr>\n",
              "      <th>2</th>\n",
              "      <td>183</td>\n",
              "      <td>64</td>\n",
              "      <td>0</td>\n",
              "      <td>0</td>\n",
              "      <td>23.3</td>\n",
              "      <td>0.672</td>\n",
              "      <td>32</td>\n",
              "      <td>1</td>\n",
              "    </tr>\n",
              "    <tr>\n",
              "      <th>3</th>\n",
              "      <td>89</td>\n",
              "      <td>66</td>\n",
              "      <td>23</td>\n",
              "      <td>94</td>\n",
              "      <td>28.1</td>\n",
              "      <td>0.167</td>\n",
              "      <td>21</td>\n",
              "      <td>0</td>\n",
              "    </tr>\n",
              "    <tr>\n",
              "      <th>4</th>\n",
              "      <td>137</td>\n",
              "      <td>40</td>\n",
              "      <td>35</td>\n",
              "      <td>168</td>\n",
              "      <td>43.1</td>\n",
              "      <td>2.288</td>\n",
              "      <td>33</td>\n",
              "      <td>1</td>\n",
              "    </tr>\n",
              "  </tbody>\n",
              "</table>\n",
              "</div>"
            ],
            "text/plain": [
              "   plas  pres  skin  insu  mass   pedi  age  class\n",
              "0   148    72    35     0  33.6  0.627   50      1\n",
              "1    85    66    29     0  26.6  0.351   31      0\n",
              "2   183    64     0     0  23.3  0.672   32      1\n",
              "3    89    66    23    94  28.1  0.167   21      0\n",
              "4   137    40    35   168  43.1  2.288   33      1"
            ]
          },
          "metadata": {
            "tags": []
          },
          "execution_count": 31
        }
      ]
    },
    {
      "cell_type": "markdown",
      "metadata": {
        "id": "9N0wysVkMn2I"
      },
      "source": [
        "### Challenge 2:  Split dataset into training and test sets\n",
        "\n",
        "Split the dataset into 70% training and 30% test data. Perform a `stratified split` use 0 as the random seed for shuffling. You might want to check the documentatin of the `train_test_split` method of sklearn available [here](https://scikit-learn.org/stable/modules/generated/sklearn.model_selection.train_test_split.html)."
      ]
    },
    {
      "cell_type": "code",
      "metadata": {
        "id": "EA18HJpkNKbB"
      },
      "source": [
        "from sklearn.model_selection import train_test_split\n",
        "from sklearn import datasets\n",
        "from sklearn.neighbors import KNeighborsClassifier\n",
        "from sklearn import metrics\n",
        " \n",
        "X_train, X_test, y_train, y_test = train_test_split(df.drop('class',axis=1), df['class'], test_size=.30, random_state=0)\n",
        "n_splits = 25        \n",
        "\n",
        "# Specify the corss validation parameters\n",
        "cv = StratifiedKFold(n_splits=10, random_state=43, shuffle=True)\n",
        "\n",
        "# Rum the corss-validation processing pipline \n",
        "cv_acc = cross_val_score(estimator=model,\n",
        "                         X=X_train,\n",
        "                         y=y_train,\n",
        "                         cv=cv,\n",
        "                         n_jobs=-1)\n",
        "\n",
        "kfold_acc = 0."
      ],
      "execution_count": 44,
      "outputs": []
    },
    {
      "cell_type": "code",
      "metadata": {
        "colab": {
          "base_uri": "https://localhost:8080/"
        },
        "id": "AtJfFaS3Akqc",
        "outputId": "62899c0d-2b38-4af4-8d0c-a349a4a0bd90"
      },
      "source": [
        "print(\"x_train:\", X_train.shape, \". y_train:\", y_train.shape)\r\n",
        "print(\"x_test:\", X_test.shape, \". y_test:\", y_test.shape)\r\n",
        "print(\"ID: \" + str(np.unique(y_test)))"
      ],
      "execution_count": 45,
      "outputs": [
        {
          "output_type": "stream",
          "text": [
            "x_train: (537, 7) . y_train: (537,)\n",
            "x_test: (231, 7) . y_test: (231,)\n",
            "ID: [0 1]\n"
          ],
          "name": "stdout"
        }
      ]
    },
    {
      "cell_type": "markdown",
      "metadata": {
        "id": "gP8ULq8HNSvO"
      },
      "source": [
        "### Challenge 3:  Perform model selection on the KNN classifier\n",
        "\n",
        "Use the above dataset to identify and evaluate the best model for this dataset when you are using the K-NN classifier. Explore different parameters for K.\n",
        "\n",
        "1. Report which parameter K gives best result under the cross validation procedure.\n",
        "\n",
        "2. Report the classification accuracy for the optimal parameter using cross validation for model evaluation.\n",
        "\n",
        "3. Report the generalization performance of the optimal model on the holdout dataset."
      ]
    },
    {
      "cell_type": "code",
      "metadata": {
        "id": "XQqS4eR_NWH-",
        "colab": {
          "base_uri": "https://localhost:8080/"
        },
        "outputId": "6c125973-d644-4d0f-f3ed-4df6a8ae3d48"
      },
      "source": [
        "kfold_acc = kfold_acc/n_splits\n",
        "\n",
        "model = KNeighborsClassifier(n_neighbors=3)\n",
        "model.fit(X_train, y_train)\n",
        "y_pred = model.predict(X_test)\n",
        "test_acc = metrics.accuracy_score(y_pred, y_test)\n",
        "\n",
        "print(\"Cross-validation: {:.2f}\".format(np.mean(cv_acc)))\n",
        "print(\"Test Accuracy: {:.2f}\".format(test_acc))"
      ],
      "execution_count": 58,
      "outputs": [
        {
          "output_type": "stream",
          "text": [
            "Cross-validation: 0.76\n",
            "Test Accuracy: 0.71\n"
          ],
          "name": "stdout"
        }
      ]
    },
    {
      "cell_type": "code",
      "metadata": {
        "id": "N6jX2H4gNs5f",
        "colab": {
          "base_uri": "https://localhost:8080/"
        },
        "outputId": "4e24bfb4-ffdb-4efc-9606-6005425712df"
      },
      "source": [
        "# Use this cell to calculate and report optimal model parameters and cross validation performance. \n",
        "kfold_acc = kfold_acc/n_splits\n",
        "\n",
        "model = KNeighborsClassifier(n_neighbors=7)\n",
        "model.fit(X_train, y_train)\n",
        "y_pred = model.predict(X_test)\n",
        "test_acc = metrics.accuracy_score(y_pred, y_test)\n",
        "\n",
        "print(\"Cross-validation: {:.2f}\".format(np.mean(cv_acc)))\n",
        "print(\"Test Accuracy: {:.2f}\".format(test_acc))"
      ],
      "execution_count": 59,
      "outputs": [
        {
          "output_type": "stream",
          "text": [
            "Cross-validation: 0.76\n",
            "Test Accuracy: 0.75\n"
          ],
          "name": "stdout"
        }
      ]
    },
    {
      "cell_type": "code",
      "metadata": {
        "id": "tBgm22CNNxYA",
        "colab": {
          "base_uri": "https://localhost:8080/"
        },
        "outputId": "09772518-13f1-485c-bf89-855cab41a614"
      },
      "source": [
        "# Use this cell to calculate and report the generalization performance of the optimal model\n",
        "kfold_acc = kfold_acc/n_splits\n",
        "\n",
        "model = KNeighborsClassifier(n_neighbors=15)\n",
        "model.fit(X_train, y_train)\n",
        "y_pred = model.predict(X_test)\n",
        "test_acc = metrics.accuracy_score(y_pred, y_test)\n",
        "\n",
        "print(\"Cross-validation: {:.2f}\".format(np.mean(cv_acc)))\n",
        "print(\"Test Accuracy: {:.2f}\".format(test_acc))"
      ],
      "execution_count": 60,
      "outputs": [
        {
          "output_type": "stream",
          "text": [
            "Cross-validation: 0.76\n",
            "Test Accuracy: 0.74\n"
          ],
          "name": "stdout"
        }
      ]
    },
    {
      "cell_type": "markdown",
      "metadata": {
        "id": "faYsnc8WNysX"
      },
      "source": [
        "##  3 Perform model selection on the SVM classifier.\n",
        "Use the above dataset to identify and evaluate the best model for this dataset when you are using the SVM classifier. Explore different parameters for C, gamma and kernel.\n",
        "\n",
        "1. Report which parameter configuration (C, gamma, kernel) gives best result under the cross validation procedure.\n",
        "\n",
        "2. Report the classification accuracy for the optimal parameter using cross validation for model evaluation.\n",
        "\n",
        "3. Report the generalization performance of the optimal model on the holdout dataset."
      ]
    },
    {
      "cell_type": "code",
      "metadata": {
        "id": "i02o_wbxN4lK",
        "colab": {
          "base_uri": "https://localhost:8080/"
        },
        "outputId": "aa0e3d25-41e2-4975-9e42-7d11ac380519"
      },
      "source": [
        "import pandas as pd\n",
        "from sklearn.model_selection import train_test_split\n",
        "from sklearn import datasets\n",
        "from sklearn import metrics\n",
        "from sklearn.svm import SVC\n",
        "from sklearn.model_selection import train_test_split\n",
        "from sklearn.metrics import classification_report\n",
        "\n",
        "df = pd.read_csv('/content/sample_data/dataset_37_diabetes.csv')\n",
        "df.drop(df.columns[0],axis=1,inplace=True)\n",
        "\n",
        "# Implement Challenge 1 here.\n",
        "df['class'] = df['class'].map({'tested_positive': 1, 'tested_negative': 0})\n",
        "\n",
        "from sklearn.model_selection import train_test_split\n",
        "from sklearn import datasets\n",
        "from sklearn.neighbors import KNeighborsClassifier\n",
        "from sklearn import metrics\n",
        " \n",
        "X_train, X_test, y_train, y_test = train_test_split(df.drop('class',axis=1), df['class'], test_size=.30, random_state=0)\n",
        "n_splits = 25      \n",
        "# Specify the corss validation parameters\n",
        "cv = StratifiedKFold(n_splits=10, random_state=43, shuffle=True)\n",
        "\n",
        "# Rum the corss-validation processing pipline \n",
        "cv_acc = cross_val_score(estimator=model,\n",
        "                         X=X_train,\n",
        "                         y=y_train,\n",
        "                         cv=cv,\n",
        "                         n_jobs=-1)\n",
        "\n",
        "kfold_acc = kfold_acc/n_splits\n",
        "\n",
        "model = SVC(C = 5.0, kernel=\"linear\", gamma = 25)\n",
        "model.fit(X_train, y_train)\n",
        "y_pred = model.predict(X_test)\n",
        "test_acc = metrics.accuracy_score(y_pred, y_test)\n",
        "\n",
        "print(\"Cross-validation: {:.2f}\".format(np.mean(cv_acc)))\n",
        "print(\"Test Accuracy: {:.2f}\".format(test_acc))\n",
        "print(classification_report(y_test,y_pred))"
      ],
      "execution_count": 61,
      "outputs": [
        {
          "output_type": "stream",
          "text": [
            "Cross-validation: 0.74\n",
            "Test Accuracy: 0.77\n",
            "              precision    recall  f1-score   support\n",
            "\n",
            "           0       0.80      0.89      0.84       157\n",
            "           1       0.70      0.53      0.60        74\n",
            "\n",
            "    accuracy                           0.77       231\n",
            "   macro avg       0.75      0.71      0.72       231\n",
            "weighted avg       0.77      0.77      0.77       231\n",
            "\n"
          ],
          "name": "stdout"
        }
      ]
    },
    {
      "cell_type": "code",
      "metadata": {
        "id": "Kk0_X5H-N_ZZ",
        "colab": {
          "base_uri": "https://localhost:8080/"
        },
        "outputId": "d103c460-8cfe-46c5-95c8-e21790b4df62"
      },
      "source": [
        "# Use this cell to run cross validation and select the optimial model for SVM classifier\n",
        "# (i.e. the optimal C, gamma, kernal parameter configuration)\n",
        "import pandas as pd\n",
        "from sklearn.model_selection import train_test_split\n",
        "from sklearn import datasets\n",
        "from sklearn import metrics\n",
        "from sklearn.svm import SVC\n",
        "from sklearn.model_selection import train_test_split\n",
        "from sklearn.metrics import classification_report\n",
        "\n",
        "df = pd.read_csv('/content/sample_data/dataset_37_diabetes.csv')\n",
        "df.drop(df.columns[0],axis=1,inplace=True)\n",
        "\n",
        "# Implement Challenge 1 here.\n",
        "df['class'] = df['class'].map({'tested_positive': 1, 'tested_negative': 0})\n",
        "\n",
        "from sklearn.model_selection import train_test_split\n",
        "from sklearn import datasets\n",
        "from sklearn.neighbors import KNeighborsClassifier\n",
        "from sklearn import metrics\n",
        " \n",
        "X_train, X_test, y_train, y_test = train_test_split(df.drop('class',axis=1), df['class'], test_size=.30, random_state=0)\n",
        "n_splits = 10      \n",
        "\n",
        "# Specify the corss validation parameters\n",
        "cv = StratifiedKFold(n_splits=10, random_state=43, shuffle=True)\n",
        "\n",
        "# Rum the corss-validation processing pipline \n",
        "cv_acc = cross_val_score(estimator=model,\n",
        "                         X=X_train,\n",
        "                         y=y_train,\n",
        "                         cv=cv,\n",
        "                         n_jobs=-1)\n",
        "\n",
        "kfold_acc = kfold_acc/n_splits\n",
        "\n",
        "model = SVC(C = 5.0, kernel=\"linear\", gamma = 25)\n",
        "model.fit(X_train, y_train)\n",
        "y_pred = model.predict(X_test)\n",
        "test_acc = metrics.accuracy_score(y_pred, y_test)\n",
        "\n",
        "print(\"Cross-validation: {:.2f}\".format(np.mean(cv_acc)))\n",
        "print(\"Test Accuracy: {:.2f}\".format(test_acc))\n",
        "print(classification_report(y_test,y_pred))"
      ],
      "execution_count": 57,
      "outputs": [
        {
          "output_type": "stream",
          "text": [
            "Cross-validation: 0.76\n",
            "Test Accuracy: 0.77\n",
            "              precision    recall  f1-score   support\n",
            "\n",
            "           0       0.80      0.89      0.84       157\n",
            "           1       0.70      0.53      0.60        74\n",
            "\n",
            "    accuracy                           0.77       231\n",
            "   macro avg       0.75      0.71      0.72       231\n",
            "weighted avg       0.77      0.77      0.77       231\n",
            "\n"
          ],
          "name": "stdout"
        }
      ]
    },
    {
      "cell_type": "code",
      "metadata": {
        "id": "ATeB591IODdy",
        "colab": {
          "base_uri": "https://localhost:8080/"
        },
        "outputId": "6f25f39d-eaa4-4f39-9313-8cb87918a656"
      },
      "source": [
        "# Use this cell to run cross validation and select the optimial model for SVM classifier\n",
        "# (i.e. the optimal C, gamma, kernal parameter configuration)\n",
        "import pandas as pd\n",
        "from sklearn.model_selection import train_test_split\n",
        "from sklearn import datasets\n",
        "from sklearn import metrics\n",
        "from sklearn.svm import SVC\n",
        "from sklearn.model_selection import train_test_split\n",
        "from sklearn.metrics import classification_report\n",
        "\n",
        "df = pd.read_csv('/content/sample_data/dataset_37_diabetes.csv')\n",
        "df.drop(df.columns[0],axis=1,inplace=True)\n",
        "\n",
        "# Implement Challenge 1 here.\n",
        "df['class'] = df['class'].map({'tested_positive': 1, 'tested_negative': 0})\n",
        "\n",
        "from sklearn.model_selection import train_test_split\n",
        "from sklearn import datasets\n",
        "from sklearn.neighbors import KNeighborsClassifier\n",
        "from sklearn import metrics\n",
        " \n",
        "X_train, X_test, y_train, y_test = train_test_split(df.drop('class',axis=1), df['class'], test_size=.30, random_state=0)\n",
        "n_splits = 25      \n",
        "n_neighbors = 10   \n",
        "\n",
        "# Specify the corss validation parameters\n",
        "cv = StratifiedKFold(n_splits=10, random_state=43, shuffle=True)\n",
        "\n",
        "# Rum the corss-validation processing pipline \n",
        "cv_acc = cross_val_score(estimator=model,\n",
        "                         X=X_train,\n",
        "                         y=y_train,\n",
        "                         cv=cv,\n",
        "                         n_jobs=-1)\n",
        "\n",
        "kfold_acc = kfold_acc/n_splits\n",
        "\n",
        "model = SVC(C = 10.0, kernel=\"rbf\", gamma = 'auto')\n",
        "model.fit(X_train, y_train)\n",
        "y_pred = model.predict(X_test)\n",
        "test_acc = metrics.accuracy_score(y_pred, y_test)\n",
        "\n",
        "print(\"Cross-validation: {:.2f}\".format(np.mean(cv_acc)))\n",
        "print(\"Test Accuracy: {:.2f}\".format(test_acc))\n",
        "print(classification_report(y_test,y_pred))"
      ],
      "execution_count": 62,
      "outputs": [
        {
          "output_type": "stream",
          "text": [
            "Cross-validation: 0.77\n",
            "Test Accuracy: 0.68\n",
            "              precision    recall  f1-score   support\n",
            "\n",
            "           0       0.68      1.00      0.81       157\n",
            "           1       0.00      0.00      0.00        74\n",
            "\n",
            "    accuracy                           0.68       231\n",
            "   macro avg       0.34      0.50      0.40       231\n",
            "weighted avg       0.46      0.68      0.55       231\n",
            "\n"
          ],
          "name": "stdout"
        },
        {
          "output_type": "stream",
          "text": [
            "/usr/local/lib/python3.7/dist-packages/sklearn/metrics/_classification.py:1272: UndefinedMetricWarning: Precision and F-score are ill-defined and being set to 0.0 in labels with no predicted samples. Use `zero_division` parameter to control this behavior.\n",
            "  _warn_prf(average, modifier, msg_start, len(result))\n"
          ],
          "name": "stderr"
        }
      ]
    },
    {
      "cell_type": "markdown",
      "metadata": {
        "id": "SNUd0xUyUTQ2"
      },
      "source": [
        "Copyright Statement: Copyright © 2020 Christoforou. The materials provided by the instructor of this course, including this notebook, are for the use of the students enrolled in the course. Materials are presented in an educational context for personal use and study and should not be shared, distributed, disseminated or sold in print — or digitally — outside the course without permission. You may not, nor may you knowingly allow others to reproduce or distribute lecture notes, course materials as well as any of their derivatives without the instructor's express written consent"
      ]
    }
  ]
}