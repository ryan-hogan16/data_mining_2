{
  "nbformat": 4,
  "nbformat_minor": 0,
  "metadata": {
    "colab": {
      "name": "Problem_set_02_Instance_classifiers_KNN.ipynb",
      "provenance": [],
      "toc_visible": true
    },
    "kernelspec": {
      "name": "python3",
      "display_name": "Python 3"
    }
  },
  "cells": [
    {
      "cell_type": "markdown",
      "metadata": {
        "id": "_Jk-XWL_ICsc"
      },
      "source": [
        "This notebook is part the of Dr. Christoforos Christoforou's course materials. You may not, nor may you knowingly allow others to reproduce or distribute lecture notes, course materials or any of their derivatives without the instructor's express written consent."
      ]
    },
    {
      "cell_type": "markdown",
      "metadata": {
        "id": "mGWGpILX6Caz"
      },
      "source": [
        "# Problem Set 02 - Instance-based Classifiers\n",
        "**Professor:** Dr. Christoforos Christoforou\n",
        "\n",
        "For this problem set you will need the following libraries, which are pre-installed with the colab environment: \n",
        "\n",
        "* [Numpy](https://www.numpy.org/) is an array manipulation library, used for linear algebra, Fourier transform, and random number capabilities.\n",
        "* [Pandas](https://pandas.pydata.org/) is a library for data manipulation and data analysis.\n",
        "* [Matplotlib](https://matplotlib.org/) is a library which generates figures and provides graphical user interface toolkit.\n",
        "\n",
        "You can load them using the following import statement:"
      ]
    },
    {
      "cell_type": "code",
      "metadata": {
        "id": "m5xcgMf35rfn"
      },
      "source": [
        "import numpy as np\n",
        "import pandas as pd\n",
        "import matplotlib.pylab as plt"
      ],
      "execution_count": 1,
      "outputs": []
    },
    {
      "cell_type": "markdown",
      "metadata": {
        "id": "Kmj0HPwPuohO"
      },
      "source": [
        "## 1. Objective \n",
        "As part of this problem set, you will expore work on the `wine quality dataset`  in order to: \n",
        "- To explore the physiocochemical properties of red wine\n",
        "- To determine an optimal machine learning model for red wine quality classification\n",
        "\n",
        "For that, you will be using an `instance-based` classifier, namely K-NN algorithm. Review the information provided in the problem set, and complete all challenges listed.  "
      ]
    },
    {
      "cell_type": "markdown",
      "metadata": {
        "id": "mSJ_VpGu6XWz"
      },
      "source": [
        "## 2. Wine Quality Dataset - Data Description\n",
        "\n",
        "For this dataset you will be using the `wine quality dataset`. Below is a description of the various parameters listed in that dataset (i.e. potential features):\n",
        "\n",
        "* fixed.acidity (tartaric acid - g / dm^3): most acids involved with wine or fixed or nonvolatile (do not evaporate readily) \n",
        "* volatile.acidity (acetic acid - g / dm^3): the amount of acetic acid in wine, which at too high of levels can lead to an unpleasant, vinegar taste \n",
        "* citric.acid (g / dm^3): the amount of acetic acid in wine, which at too high of levels can lead to an unpleasant, vinegar taste \n",
        "* residual.sugar (g / dm^3): the amount of sugar remaining after fermentation stops, it's rare to find wines with less than 1 gram/liter and wines with greater than 45 grams/liter are considered sweet \n",
        "* chlorides (sodium chloride - g / dm^3): the amount of salt in the wine \n",
        "* free.sulfur.dioxide (mg / dm^3): the free form of SO2 exists in equilibrium between molecular SO2 (as a dissolved gas) and bisulfite ion; it prevents microbial growth and the oxidation of wine \n",
        "* total.sulfur.dioxide (mg / dm^3): amount of free and bound forms of S02; in low concentrations, SO2 is mostly undetectable in wine, but at free SO2 concentrations over 50 ppm, SO2 becomes evident in the nose and taste of wine \n",
        "* density (g / cm^3): the density of water is close to that of water depending on the percent alcohol and sugar content \n",
        "* pH: describes how acidic or basic a wine is on a scale from 0 (very acidic) to 14 (very basic); most wines are between 3-4 on the pH scale \n",
        "* sulphates (potassium sulphate - g / dm3): a wine additive which can contribute to sulfur dioxide gas (S02) levels, wich acts as an antimicrobial and antioxidant \n",
        "* alcohol (% by volume): the percent alcohol content of the wine \n",
        "* quality: quality score between 0 and 10\n",
        "\n"
      ]
    },
    {
      "cell_type": "markdown",
      "metadata": {
        "id": "wzcCUgaNwHMx"
      },
      "source": [
        "## Download dataset from kaggle\n",
        "You will use the Kaggle CLI to dowload the `Wine Quality Dataset` to your colab enviroment. You will need to upload your kaggle API (see problem_set 01 for direction on how to obtain your API key. "
      ]
    },
    {
      "cell_type": "code",
      "metadata": {
        "id": "c9GUkdufxKJn"
      },
      "source": [
        "# install kaggle CLI\n",
        "!pip install -q kaggle"
      ],
      "execution_count": null,
      "outputs": []
    },
    {
      "cell_type": "code",
      "metadata": {
        "id": "nyyNV2x_xP7l",
        "colab": {
          "resources": {
            "http://localhost:8080/nbextensions/google.colab/files.js": {
              "data": "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",
              "ok": true,
              "headers": [
                [
                  "content-type",
                  "application/javascript"
                ]
              ],
              "status": 200,
              "status_text": ""
            }
          },
          "base_uri": "https://localhost:8080/",
          "height": 72
        },
        "outputId": "c3117f07-b18b-4f64-af4d-85766f1d8ff4"
      },
      "source": [
        "# Upload the kaggle API key of your account \n",
        "from google.colab import files \n",
        "files.upload()\n",
        "!mkdir ~/.kaggle\n",
        "!cp kaggle.json ~/.kaggle\n",
        "!chmod 600 ~/.kaggle/kaggle.json"
      ],
      "execution_count": null,
      "outputs": [
        {
          "output_type": "display_data",
          "data": {
            "text/html": [
              "\n",
              "     <input type=\"file\" id=\"files-68ed56bb-2756-459b-a8b9-36524cce040e\" name=\"files[]\" multiple disabled\n",
              "        style=\"border:none\" />\n",
              "     <output id=\"result-68ed56bb-2756-459b-a8b9-36524cce040e\">\n",
              "      Upload widget is only available when the cell has been executed in the\n",
              "      current browser session. Please rerun this cell to enable.\n",
              "      </output>\n",
              "      <script src=\"/nbextensions/google.colab/files.js\"></script> "
            ],
            "text/plain": [
              "<IPython.core.display.HTML object>"
            ]
          },
          "metadata": {
            "tags": []
          }
        },
        {
          "output_type": "stream",
          "text": [
            "Saving kaggle.json to kaggle.json\n"
          ],
          "name": "stdout"
        }
      ]
    },
    {
      "cell_type": "code",
      "metadata": {
        "id": "UF7BNWDK3Djt",
        "colab": {
          "base_uri": "https://localhost:8080/"
        },
        "outputId": "144ab8f4-137f-496e-945a-fd33ceacf017"
      },
      "source": [
        "# View list of data files available in the dataset. \n",
        "# Format : kaggle dataset files <dataset-URI>\n",
        "!kaggle datasets files cchristoforou/practice-dataset-for-tutorials"
      ],
      "execution_count": null,
      "outputs": [
        {
          "output_type": "stream",
          "text": [
            "Warning: Looks like you're using an outdated API Version, please consider updating (server 1.5.10 / client 1.5.4)\n",
            "name                  size  creationDate         \n",
            "-------------------  -----  -------------------  \n",
            "wine.data             11KB  2021-01-23 15:26:18  \n",
            "countries.csv          2KB  2021-01-23 15:26:18  \n",
            "wineQualityReds.csv   92KB  2021-01-23 15:26:18  \n",
            "country_total.csv    533KB  2021-01-23 15:26:18  \n"
          ],
          "name": "stdout"
        }
      ]
    },
    {
      "cell_type": "code",
      "metadata": {
        "id": "2_ZTFa7Zxa3V"
      },
      "source": [
        "# Download - Specify the parameters.  \n",
        "kaggle_dataset_URI = \"cchristoforou/practice-dataset-for-tutorials\"\n",
        "output_folder = \"sample_data/problem_set02\"\n",
        "kaggle_data_file1 = \"wineQualityReds.csv\""
      ],
      "execution_count": null,
      "outputs": []
    },
    {
      "cell_type": "code",
      "metadata": {
        "id": "oXbCHcmaxdvc",
        "colab": {
          "base_uri": "https://localhost:8080/"
        },
        "outputId": "1f252959-371e-49c5-d46f-4e1510faf6ff"
      },
      "source": [
        "# Download the first file from dataset - countries.csv\n",
        "!kaggle datasets download $kaggle_dataset_URI --file $kaggle_data_file1 --path $output_folder \n"
      ],
      "execution_count": null,
      "outputs": [
        {
          "output_type": "stream",
          "text": [
            "Downloading wineQualityReds.csv to sample_data/problem_set02\n",
            "\r  0% 0.00/92.1k [00:00<?, ?B/s]\n",
            "\r100% 92.1k/92.1k [00:00<00:00, 39.2MB/s]\n"
          ],
          "name": "stdout"
        }
      ]
    },
    {
      "cell_type": "markdown",
      "metadata": {
        "id": "8NK7aOGa3mEO"
      },
      "source": [
        "## Load the data \n",
        "The code below showcase how to load the data in a pandas `DataFrame` and apply a train_test_split on the data. "
      ]
    },
    {
      "cell_type": "code",
      "metadata": {
        "id": "VfqI0GwY3puP"
      },
      "source": [
        "# Code to load the data from file. Here we use the pandas library to read the csv file. \n",
        "datafile = \"/content/sample_data/wineQualityReds.csv\"\n",
        "wine_df = pd.read_csv(datafile)\n",
        "wine_df.drop(wine_df.columns[0],axis=1,inplace=True)"
      ],
      "execution_count": 3,
      "outputs": []
    },
    {
      "cell_type": "code",
      "metadata": {
        "id": "mFY7dC6b3-4j"
      },
      "source": [
        "# Split the data into a training and testing set using the sklearn function train_test_split\n",
        "# Noteice that\n",
        "from sklearn.model_selection import train_test_split\n",
        "from sklearn import datasets\n",
        "from sklearn.neighbors import KNeighborsClassifier\n",
        "from sklearn import metrics\n",
        " \n",
        "X_train, X_test, y_train, y_test = train_test_split(wine_df.drop('quality',axis=1), wine_df['quality'], test_size=.25, random_state=42)"
      ],
      "execution_count": 6,
      "outputs": []
    },
    {
      "cell_type": "markdown",
      "metadata": {
        "id": "gA3vk26dYXC2"
      },
      "source": [
        "## Challenge 1\n",
        "Use the variables `X_train`, `X_test`, `y_train`, and `y_test` to explore your data. In particular, calculate and display the following information.\n",
        "\n",
        "* Number of samples in the training set in total and in each class.\n",
        "* Number of samples in the testing set in total and in each class.\n",
        "* Number of features in the dataset. \n",
        "* Number of classes in the dataset.\n",
        "* IDs of the number of classes.\n"
      ]
    },
    {
      "cell_type": "code",
      "metadata": {
        "id": "iiXoK_qwYXC3",
        "colab": {
          "base_uri": "https://localhost:8080/"
        },
        "outputId": "9ee6c1b2-f369-496f-b002-1b7e39721304"
      },
      "source": [
        "# Your Solution here\n",
        "print(\"x_train:\", X_train.shape, \". y_train:\", y_train.shape)\n",
        "print(\"x_test:\", X_test.shape, \". y_test:\", y_test.shape)\n",
        "print(\"ID: \" + str(np.unique(y_test)))"
      ],
      "execution_count": 14,
      "outputs": [
        {
          "output_type": "stream",
          "text": [
            "x_train: (1199, 11) . y_train: (1199,)\n",
            "x_test: (400, 11) . y_test: (400,)\n",
            "ID: [3 4 5 6 7 8]\n"
          ],
          "name": "stdout"
        }
      ]
    },
    {
      "cell_type": "code",
      "metadata": {
        "id": "OCwA0WsD0-iN"
      },
      "source": [
        "########\r\n",
        "# Features = 1599\r\n",
        "# Classes = 11\r\n",
        "# ID's: 3,4,5,6,7,8"
      ],
      "execution_count": null,
      "outputs": []
    },
    {
      "cell_type": "markdown",
      "metadata": {
        "id": "AiI3psnpYXC7"
      },
      "source": [
        "# Challenge 2\n",
        "\n",
        "Train a **K-NN** classifier using the `(X_train,y_train)` dataset and use the trained model to predict the underlying classes for the observations in the test dataset `X_test`. Store your prediction in a variable called `y_pred`."
      ]
    },
    {
      "cell_type": "code",
      "metadata": {
        "id": "DqyJrw2vYXC9",
        "colab": {
          "base_uri": "https://localhost:8080/"
        },
        "outputId": "237340f7-cfa4-43d9-869f-3c64d18ec3e6"
      },
      "source": [
        "# Your solution \n",
        "model = KNeighborsClassifier(n_neighbors=3)\n",
        "model.fit(X_train, y_train)\n",
        "y_pred = model.predict(X_test)\n",
        "y_pred"
      ],
      "execution_count": 13,
      "outputs": [
        {
          "output_type": "execute_result",
          "data": {
            "text/plain": [
              "array([5, 5, 6, 5, 6, 5, 5, 5, 6, 6, 8, 5, 6, 6, 6, 7, 6, 5, 7, 5, 4, 5,\n",
              "       5, 5, 5, 5, 7, 5, 5, 5, 5, 5, 5, 6, 5, 5, 6, 6, 6, 6, 6, 5, 6, 5,\n",
              "       6, 6, 6, 6, 5, 4, 5, 5, 5, 7, 4, 4, 6, 7, 6, 5, 5, 8, 6, 5, 6, 6,\n",
              "       7, 5, 5, 6, 5, 5, 6, 5, 6, 5, 5, 5, 5, 5, 5, 7, 5, 5, 6, 5, 5, 6,\n",
              "       6, 4, 5, 5, 4, 6, 5, 6, 5, 4, 5, 5, 5, 5, 6, 7, 6, 6, 6, 6, 5, 5,\n",
              "       6, 6, 7, 5, 6, 6, 5, 5, 5, 7, 5, 6, 7, 5, 5, 5, 6, 6, 5, 6, 6, 6,\n",
              "       5, 5, 4, 5, 6, 6, 4, 6, 5, 5, 7, 6, 6, 5, 6, 7, 6, 5, 6, 6, 5, 5,\n",
              "       6, 6, 5, 4, 6, 5, 7, 5, 5, 5, 6, 6, 6, 5, 5, 5, 6, 4, 7, 6, 5, 5,\n",
              "       4, 4, 5, 7, 6, 5, 5, 6, 5, 6, 6, 6, 7, 6, 6, 6, 5, 7, 4, 5, 6, 5,\n",
              "       3, 6, 5, 5, 5, 6, 7, 5, 6, 7, 4, 5, 7, 5, 6, 7, 6, 5, 7, 6, 5, 5,\n",
              "       6, 5, 6, 6, 6, 6, 5, 6, 5, 5, 5, 5, 7, 4, 5, 6, 5, 6, 5, 5, 7, 5,\n",
              "       5, 5, 6, 7, 5, 5, 7, 5, 6, 5, 5, 6, 6, 5, 6, 6, 8, 6, 6, 6, 4, 7,\n",
              "       6, 6, 5, 5, 6, 6, 6, 4, 6, 6, 5, 5, 6, 7, 5, 6, 5, 6, 5, 5, 5, 6,\n",
              "       5, 5, 6, 6, 5, 6, 5, 6, 5, 5, 5, 6, 5, 5, 5, 5, 6, 7, 5, 5, 6, 5,\n",
              "       6, 7, 5, 5, 5, 5, 6, 6, 5, 5, 5, 6, 4, 5, 6, 7, 5, 5, 7, 6, 4, 5,\n",
              "       7, 7, 5, 6, 5, 5, 4, 6, 5, 5, 5, 7, 4, 4, 6, 6, 6, 4, 5, 6, 5, 5,\n",
              "       5, 5, 7, 6, 5, 5, 6, 5, 5, 5, 4, 6, 5, 7, 6, 5, 5, 5, 5, 4, 6, 5,\n",
              "       5, 6, 6, 4, 5, 4, 5, 6, 7, 6, 5, 7, 5, 5, 5, 6, 5, 5, 5, 5, 6, 6,\n",
              "       6, 5, 6, 6])"
            ]
          },
          "metadata": {
            "tags": []
          },
          "execution_count": 13
        }
      ]
    },
    {
      "cell_type": "markdown",
      "metadata": {
        "id": "dXzRoS9zYXDA"
      },
      "source": [
        "# Challenge 3\n",
        "\n",
        "Evaluate the performance of your classifier. Calculate and display the following:\n",
        "* print the `confusion matrix`.\n",
        "* `normalized confusion matrix`. \n",
        "* the probablitity of correct classification (accuracy score). \n",
        "* the `precision`, `recall`, and `f1-score` for each class."
      ]
    },
    {
      "cell_type": "code",
      "metadata": {
        "id": "KLY8dmj9YXDB",
        "colab": {
          "base_uri": "https://localhost:8080/"
        },
        "outputId": "5cfc47df-02cd-4a6e-f0a4-d9d39e0069c5"
      },
      "source": [
        "# Your solution \n",
        "matrix = metrics.confusion_matrix(y_test, y_pred)\n",
        "matrix"
      ],
      "execution_count": 18,
      "outputs": [
        {
          "output_type": "execute_result",
          "data": {
            "text/plain": [
              "array([[ 0,  0,  1,  0,  0,  0],\n",
              "       [ 0,  1,  3,  8,  1,  0],\n",
              "       [ 1, 12, 98, 48,  4,  1],\n",
              "       [ 0, 15, 74, 62, 18,  0],\n",
              "       [ 0,  0, 10, 21, 15,  2],\n",
              "       [ 0,  0,  1,  2,  2,  0]])"
            ]
          },
          "metadata": {
            "tags": []
          },
          "execution_count": 18
        }
      ]
    },
    {
      "cell_type": "code",
      "metadata": {
        "colab": {
          "base_uri": "https://localhost:8080/"
        },
        "id": "gijjimED22QQ",
        "outputId": "d0cfaa58-ff40-49db-e9db-1172cacba4c4"
      },
      "source": [
        "normalized_matrix = matrix.astype('float32') / matrix.sum()\r\n",
        "normalized_matrix"
      ],
      "execution_count": 20,
      "outputs": [
        {
          "output_type": "execute_result",
          "data": {
            "text/plain": [
              "array([[0.    , 0.    , 0.0025, 0.    , 0.    , 0.    ],\n",
              "       [0.    , 0.0025, 0.0075, 0.02  , 0.0025, 0.    ],\n",
              "       [0.0025, 0.03  , 0.245 , 0.12  , 0.01  , 0.0025],\n",
              "       [0.    , 0.0375, 0.185 , 0.155 , 0.045 , 0.    ],\n",
              "       [0.    , 0.    , 0.025 , 0.0525, 0.0375, 0.005 ],\n",
              "       [0.    , 0.    , 0.0025, 0.005 , 0.005 , 0.    ]], dtype=float32)"
            ]
          },
          "metadata": {
            "tags": []
          },
          "execution_count": 20
        }
      ]
    },
    {
      "cell_type": "code",
      "metadata": {
        "colab": {
          "base_uri": "https://localhost:8080/"
        },
        "id": "uPT1gNqc3t_T",
        "outputId": "19843eb4-dbf9-4463-b949-857f10b59d03"
      },
      "source": [
        "print(metrics.classification_report(y_test, y_pred))\r\n"
      ],
      "execution_count": 28,
      "outputs": [
        {
          "output_type": "stream",
          "text": [
            "              precision    recall  f1-score   support\n",
            "\n",
            "           3       0.00      0.00      0.00         1\n",
            "           4       0.04      0.08      0.05        13\n",
            "           5       0.52      0.60      0.56       164\n",
            "           6       0.44      0.37      0.40       169\n",
            "           7       0.38      0.31      0.34        48\n",
            "           8       0.00      0.00      0.00         5\n",
            "\n",
            "    accuracy                           0.44       400\n",
            "   macro avg       0.23      0.23      0.22       400\n",
            "weighted avg       0.45      0.44      0.44       400\n",
            "\n"
          ],
          "name": "stdout"
        }
      ]
    },
    {
      "cell_type": "markdown",
      "metadata": {
        "id": "tISC_CuuYXDE"
      },
      "source": [
        "# Challenge 4\n",
        "\n",
        "The code below loads the same dataset, but treats it as a binary classification problem. That is, instead of classifying an observation into one of 10 categories (0..10), we consider all observations with score above 5 as being good and all observation below or equal to five as being bad.\n",
        "\n",
        "\n",
        "\n"
      ]
    },
    {
      "cell_type": "code",
      "metadata": {
        "id": "OOknQCteYXDG"
      },
      "source": [
        "# Code to load the data from file. Here we use the pandas library to read the csv file. \n",
        "datafile = \"/content/sample_data/wineQualityReds.csv\"\n",
        "wine_df = pd.read_csv(datafile)\n",
        "wine_df.drop(wine_df.columns[0],axis=1,inplace=True)\n",
        "\n",
        "wine_df['quality'] = np.where(wine_df['quality']>5,\"Good\",\"Bad\")"
      ],
      "execution_count": 29,
      "outputs": []
    },
    {
      "cell_type": "code",
      "metadata": {
        "id": "lbQmpDuKYXDJ"
      },
      "source": [
        "X_train, X_test, y_train, y_test = train_test_split(wine_df.drop('quality',axis=1), wine_df['quality'], test_size=.25, random_state=42)"
      ],
      "execution_count": 30,
      "outputs": []
    },
    {
      "cell_type": "markdown",
      "metadata": {
        "id": "6j1YJhHoYXDM"
      },
      "source": [
        "## Callenge 4.1\n",
        "Use the variables `X_train`, `X_test`, `y_train`, and `y_test` to explore your data. In particular, calculate and display the following information.\n",
        "* Number of samples in the training set in total and in each class.\n",
        "* Number of samples in the testing set in total and in each class.\n",
        "* Number of features in the dataset. \n",
        "* Number of classes in the dataset.\n",
        "* IDs of the number of classes.\n",
        "\n",
        "\n"
      ]
    },
    {
      "cell_type": "code",
      "metadata": {
        "id": "lSm4hG_xYXDN",
        "colab": {
          "base_uri": "https://localhost:8080/"
        },
        "outputId": "876f85ce-3714-402a-e8bb-267d80fae616"
      },
      "source": [
        "# Your Solution \n",
        "print(\"x_train:\", X_train.shape, \". y_train:\", y_train.shape)\n",
        "print(\"x_test:\", X_test.shape, \". y_test:\", y_test.shape)\n",
        "print(\"ID: \" + str(np.unique(y_test)))"
      ],
      "execution_count": 31,
      "outputs": [
        {
          "output_type": "stream",
          "text": [
            "x_train: (1199, 11) . y_train: (1199,)\n",
            "x_test: (400, 11) . y_test: (400,)\n",
            "ID: ['Bad' 'Good']\n"
          ],
          "name": "stdout"
        }
      ]
    },
    {
      "cell_type": "markdown",
      "metadata": {
        "id": "5dp5WBluYXDQ"
      },
      "source": [
        "## Challenge 4.2 \n",
        "Train a **K-NN** classifier using the `(X_train,y_train)` dataset and use trained model to predict the underlying classes for the observations in the test dataset `X_test`. Store your prediction in a variable called `y_pred`."
      ]
    },
    {
      "cell_type": "code",
      "metadata": {
        "id": "hVFLojbcYXDQ",
        "colab": {
          "base_uri": "https://localhost:8080/"
        },
        "outputId": "718eb98a-b311-4225-9b91-313ae3a09244"
      },
      "source": [
        "# Your solution \n",
        "model = KNeighborsClassifier(n_neighbors=3)\n",
        "model.fit(X_train, y_train)\n",
        "y_pred = model.predict(X_test)\n",
        "y_pred"
      ],
      "execution_count": 34,
      "outputs": [
        {
          "output_type": "execute_result",
          "data": {
            "text/plain": [
              "array(['Bad', 'Bad', 'Good', 'Bad', 'Good', 'Bad', 'Bad', 'Bad', 'Good',\n",
              "       'Good', 'Good', 'Bad', 'Good', 'Good', 'Good', 'Good', 'Good',\n",
              "       'Bad', 'Good', 'Bad', 'Bad', 'Good', 'Bad', 'Good', 'Bad', 'Good',\n",
              "       'Good', 'Bad', 'Bad', 'Good', 'Bad', 'Bad', 'Bad', 'Good', 'Bad',\n",
              "       'Bad', 'Good', 'Good', 'Good', 'Good', 'Good', 'Bad', 'Good',\n",
              "       'Bad', 'Good', 'Good', 'Good', 'Good', 'Bad', 'Bad', 'Bad', 'Bad',\n",
              "       'Bad', 'Good', 'Bad', 'Bad', 'Good', 'Good', 'Good', 'Bad', 'Bad',\n",
              "       'Good', 'Good', 'Bad', 'Good', 'Good', 'Good', 'Bad', 'Bad',\n",
              "       'Good', 'Bad', 'Bad', 'Good', 'Bad', 'Good', 'Bad', 'Bad', 'Bad',\n",
              "       'Bad', 'Bad', 'Bad', 'Good', 'Bad', 'Bad', 'Good', 'Bad', 'Bad',\n",
              "       'Good', 'Good', 'Bad', 'Good', 'Bad', 'Bad', 'Good', 'Bad', 'Good',\n",
              "       'Bad', 'Good', 'Bad', 'Bad', 'Bad', 'Bad', 'Good', 'Good', 'Good',\n",
              "       'Good', 'Good', 'Good', 'Bad', 'Bad', 'Good', 'Good', 'Good',\n",
              "       'Bad', 'Good', 'Good', 'Good', 'Bad', 'Bad', 'Good', 'Bad', 'Good',\n",
              "       'Good', 'Bad', 'Bad', 'Bad', 'Good', 'Good', 'Bad', 'Good', 'Good',\n",
              "       'Good', 'Bad', 'Good', 'Bad', 'Bad', 'Good', 'Good', 'Bad', 'Good',\n",
              "       'Bad', 'Bad', 'Good', 'Good', 'Good', 'Bad', 'Good', 'Good',\n",
              "       'Good', 'Bad', 'Good', 'Good', 'Good', 'Bad', 'Good', 'Good',\n",
              "       'Bad', 'Good', 'Good', 'Bad', 'Good', 'Bad', 'Bad', 'Bad', 'Good',\n",
              "       'Good', 'Good', 'Good', 'Bad', 'Bad', 'Good', 'Bad', 'Good',\n",
              "       'Good', 'Bad', 'Bad', 'Good', 'Bad', 'Bad', 'Good', 'Good', 'Bad',\n",
              "       'Bad', 'Good', 'Bad', 'Good', 'Good', 'Good', 'Good', 'Good',\n",
              "       'Good', 'Good', 'Bad', 'Good', 'Bad', 'Bad', 'Good', 'Bad', 'Good',\n",
              "       'Good', 'Bad', 'Bad', 'Bad', 'Good', 'Good', 'Bad', 'Good', 'Good',\n",
              "       'Good', 'Bad', 'Good', 'Bad', 'Good', 'Good', 'Good', 'Good',\n",
              "       'Good', 'Good', 'Bad', 'Bad', 'Good', 'Bad', 'Good', 'Good',\n",
              "       'Good', 'Good', 'Bad', 'Good', 'Bad', 'Good', 'Good', 'Bad',\n",
              "       'Good', 'Bad', 'Bad', 'Good', 'Bad', 'Good', 'Bad', 'Bad', 'Good',\n",
              "       'Bad', 'Bad', 'Good', 'Good', 'Good', 'Bad', 'Bad', 'Good', 'Bad',\n",
              "       'Good', 'Bad', 'Good', 'Good', 'Good', 'Bad', 'Good', 'Good',\n",
              "       'Good', 'Good', 'Good', 'Good', 'Bad', 'Good', 'Good', 'Good',\n",
              "       'Bad', 'Bad', 'Good', 'Good', 'Good', 'Bad', 'Good', 'Good', 'Bad',\n",
              "       'Good', 'Good', 'Good', 'Bad', 'Good', 'Bad', 'Good', 'Bad', 'Bad',\n",
              "       'Bad', 'Good', 'Bad', 'Bad', 'Good', 'Good', 'Bad', 'Good', 'Bad',\n",
              "       'Good', 'Bad', 'Good', 'Bad', 'Good', 'Bad', 'Good', 'Bad', 'Bad',\n",
              "       'Good', 'Good', 'Bad', 'Bad', 'Good', 'Bad', 'Good', 'Good', 'Bad',\n",
              "       'Bad', 'Bad', 'Bad', 'Good', 'Good', 'Good', 'Bad', 'Bad', 'Good',\n",
              "       'Bad', 'Bad', 'Good', 'Good', 'Bad', 'Bad', 'Good', 'Good', 'Bad',\n",
              "       'Good', 'Good', 'Good', 'Bad', 'Good', 'Bad', 'Good', 'Bad',\n",
              "       'Good', 'Bad', 'Bad', 'Bad', 'Good', 'Bad', 'Bad', 'Good', 'Good',\n",
              "       'Good', 'Bad', 'Bad', 'Good', 'Bad', 'Good', 'Bad', 'Bad', 'Good',\n",
              "       'Good', 'Bad', 'Bad', 'Good', 'Bad', 'Bad', 'Bad', 'Bad', 'Good',\n",
              "       'Bad', 'Good', 'Good', 'Bad', 'Bad', 'Bad', 'Bad', 'Bad', 'Good',\n",
              "       'Bad', 'Bad', 'Good', 'Good', 'Bad', 'Bad', 'Bad', 'Bad', 'Good',\n",
              "       'Good', 'Good', 'Bad', 'Good', 'Bad', 'Bad', 'Bad', 'Good', 'Bad',\n",
              "       'Bad', 'Bad', 'Bad', 'Good', 'Good', 'Good', 'Bad', 'Good', 'Good'],\n",
              "      dtype=object)"
            ]
          },
          "metadata": {
            "tags": []
          },
          "execution_count": 34
        }
      ]
    },
    {
      "cell_type": "markdown",
      "metadata": {
        "id": "aX1MGX3bYXDT"
      },
      "source": [
        "## Challenge 4.3\n",
        "Evaluate the performance of your classifier. Calculate and display the following:\n",
        "* print the `confusion matrix`.\n",
        "* `normalized confusion matrix`. \n",
        "* the probablitity of correct classification (accuracy score). \n",
        "* the `precision`, `recall`, and `f1-score` for each class."
      ]
    },
    {
      "cell_type": "code",
      "metadata": {
        "id": "3hoUdKozYXDU",
        "colab": {
          "base_uri": "https://localhost:8080/"
        },
        "outputId": "6bc8e0b1-d488-4730-9c8d-b42fc6f08144"
      },
      "source": [
        "# Your Solution \n",
        "matrix = metrics.confusion_matrix(y_test, y_pred)\n",
        "normalized_matrix = matrix.astype('float32') / matrix.sum()\n",
        "print(\"Matrix:\",matrix)\n",
        "print(\"Normalized Matrix:\", normalized_matrix)\n",
        "class_report = metrics.classification_report(y_test, y_pred)\n",
        "print(class_report)"
      ],
      "execution_count": 40,
      "outputs": [
        {
          "output_type": "stream",
          "text": [
            "Matrix: [[108  70]\n",
            " [ 82 140]]\n",
            "Normalized Matrix: [[0.27  0.175]\n",
            " [0.205 0.35 ]]\n",
            "              precision    recall  f1-score   support\n",
            "\n",
            "         Bad       0.57      0.61      0.59       178\n",
            "        Good       0.67      0.63      0.65       222\n",
            "\n",
            "    accuracy                           0.62       400\n",
            "   macro avg       0.62      0.62      0.62       400\n",
            "weighted avg       0.62      0.62      0.62       400\n",
            "\n"
          ],
          "name": "stdout"
        }
      ]
    },
    {
      "cell_type": "markdown",
      "metadata": {
        "id": "ouqRqJw1YXDZ"
      },
      "source": [
        "# Challenge 5\n",
        "\n",
        "The **Knn** classifier accepts a number of parameters. One of those parameters is the number K (i.e. the number of nearest neighbors to consider when making a prediction. Evaluate the classifier for different values of K and identify which configuration achieve the best performance on the testing set. Plot or print your results.\n"
      ]
    },
    {
      "cell_type": "code",
      "metadata": {
        "id": "5FinafW1YXDb",
        "colab": {
          "base_uri": "https://localhost:8080/"
        },
        "outputId": "213949eb-9d33-472a-f8d0-5794585324d8"
      },
      "source": [
        "# Your solution here.\n",
        "cluster2 = KNeighborsClassifier(n_neighbors=2)\n",
        "cluster2.fit(X_train, y_train)\n",
        "y_pred2 = cluster2.predict(X_test)\n",
        "print(\"K = 2\")\n",
        "print(metrics.classification_report(y_test, y_pred2))\n",
        "\n",
        "cluster3 = KNeighborsClassifier(n_neighbors=3)\n",
        "cluster3.fit(X_train, y_train)\n",
        "y_pred3 = cluster3.predict(X_test)\n",
        "print(\"K = 3\")\n",
        "print(metrics.classification_report(y_pred3, y_test))\n",
        "\n",
        "cluster4 = KNeighborsClassifier(n_neighbors=4)\n",
        "cluster4.fit(X_train, y_train)\n",
        "y_pred4 = cluster4.predict(X_test)\n",
        "print(\"K = 4\")\n",
        "print(metrics.classification_report(y_pred4, y_test))"
      ],
      "execution_count": 48,
      "outputs": [
        {
          "output_type": "stream",
          "text": [
            "K = 2\n",
            "              precision    recall  f1-score   support\n",
            "\n",
            "         Bad       0.53      0.76      0.62       178\n",
            "        Good       0.70      0.45      0.55       222\n",
            "\n",
            "    accuracy                           0.59       400\n",
            "   macro avg       0.61      0.60      0.58       400\n",
            "weighted avg       0.62      0.59      0.58       400\n",
            "\n",
            "K = 3\n",
            "              precision    recall  f1-score   support\n",
            "\n",
            "         Bad       0.61      0.57      0.59       190\n",
            "        Good       0.63      0.67      0.65       210\n",
            "\n",
            "    accuracy                           0.62       400\n",
            "   macro avg       0.62      0.62      0.62       400\n",
            "weighted avg       0.62      0.62      0.62       400\n",
            "\n",
            "K = 4\n",
            "              precision    recall  f1-score   support\n",
            "\n",
            "         Bad       0.73      0.53      0.61       245\n",
            "        Good       0.48      0.69      0.57       155\n",
            "\n",
            "    accuracy                           0.59       400\n",
            "   macro avg       0.61      0.61      0.59       400\n",
            "weighted avg       0.63      0.59      0.60       400\n",
            "\n"
          ],
          "name": "stdout"
        }
      ]
    },
    {
      "cell_type": "code",
      "metadata": {
        "id": "wWvan_Mb7Syk"
      },
      "source": [
        "# K=3 performed the best accuracy wise"
      ],
      "execution_count": null,
      "outputs": []
    },
    {
      "cell_type": "markdown",
      "metadata": {
        "id": "76vGnBXZIWoI"
      },
      "source": [
        "\n",
        "Copyright Statement: Copyright © 2020 Christoforou. The materials provided by the instructor of this course, including this notebook, are for the use of the students enrolled in the course. Materials are presented in an educational context for personal use and study and should not be shared, distributed, disseminated or sold in print — or digitally — outside the course without permission. You may not, nor may you knowingly allow others to reproduce or distribute lecture notes, course materials as well as any of their derivatives without the instructor's express written consent."
      ]
    }
  ]
}